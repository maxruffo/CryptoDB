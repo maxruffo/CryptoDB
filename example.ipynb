{
 "cells": [
  {
   "cell_type": "code",
   "execution_count": 20,
   "metadata": {},
   "outputs": [
    {
     "name": "stdout",
     "output_type": "stream",
     "text": [
      "Database database.db deleted\n",
      "Datenbankdatei database.db wurde erstellt.\n",
      "Daten wurden erfolgreich in die Datenbank eingefügt.\n",
      "Pricedata deleted\n"
     ]
    }
   ],
   "source": [
    "from cryptodb import CryptoDB\n",
    "\n",
    "# Initialize CryptoDB object using ndays\n",
    "# tickers: list of tickers to download\n",
    "# ndays: number of days to download\n",
    "# interval: interval in minutes [1, 3, 5, 15, 30]\n",
    "# progress: show progress bar\n",
    "# use_database: use database to store data\n",
    "# use_csv: use csv files to store data\n",
    "db = CryptoDB(tickers=['BTCUSDT', 'ETHUSDT'], ndays=10, interval=30, progress=False, use_database=True, use_csv=False)"
   ]
  },
  {
   "cell_type": "code",
   "execution_count": 16,
   "metadata": {},
   "outputs": [
    {
     "name": "stdout",
     "output_type": "stream",
     "text": [
      "Database database.db does not exist\n",
      "Datenbankdatei database.db wurde erstellt.\n",
      "Daten wurden erfolgreich in die Datenbank eingefügt.\n",
      "Pricedata deleted\n"
     ]
    }
   ],
   "source": [
    "from cryptodb import CryptoDB\n",
    "\n",
    "# Initialize CryptoDB object using start_date and end_date\n",
    "# tickers: list of tickers to download\n",
    "# start_date: start date to download\n",
    "# end_date: end date to download\n",
    "# interval: interval in minutes [1, 3, 5, 15, 30]\n",
    "# progress: show progress bar\n",
    "# use_database: use database to store data\n",
    "# use_csv: use csv files to store data\n",
    "db = CryptoDB(tickers=['BTCUSDT', 'ETHUSDT'], start_date='2021-01-01', end_date='2021-01-10', interval=30, progress=False, use_database=True, use_csv=False)"
   ]
  },
  {
   "cell_type": "code",
   "execution_count": 23,
   "metadata": {},
   "outputs": [
    {
     "name": "stdout",
     "output_type": "stream",
     "text": [
      "['LTCBTC', 'BNBBTC', 'NEOBTC', 'QTUMETH', 'EOSETH', 'SNTETH', 'BNTETH', 'BCCBTC', 'GASBTC']\n"
     ]
    }
   ],
   "source": [
    "# get the available ticker symbols\n",
    "tickersymbols = db.get_available_ticker_symbols()\n",
    "print(tickersymbols[1:10])"
   ]
  },
  {
   "cell_type": "code",
   "execution_count": 18,
   "metadata": {},
   "outputs": [
    {
     "name": "stdout",
     "output_type": "stream",
     "text": [
      "Price Data found for BTCUSDT\n",
      "\n"
     ]
    },
    {
     "data": {
      "text/plain": [
       "[      Ticker            Timestamp      Open      High       Low     Close  \\\n",
       " 0    BTCUSDT  2021-01-01 00:00:00  29100.83  29110.35  28925.00  29002.88   \n",
       " 1    BTCUSDT  2021-01-01 00:30:00  29002.88  29003.16  28780.00  28923.63   \n",
       " 2    BTCUSDT  2021-01-01 01:00:00  28923.63  29017.50  28690.17  28836.63   \n",
       " 3    BTCUSDT  2021-01-01 01:30:00  28836.63  29031.34  28836.62  28995.13   \n",
       " 4    BTCUSDT  2021-01-01 02:00:00  28995.13  29417.87  28960.35  29385.39   \n",
       " ..       ...                  ...       ...       ...       ...       ...   \n",
       " 476  BTCUSDT  2021-01-10 22:00:00  37727.29  38288.17  37525.22  37578.39   \n",
       " 477  BTCUSDT  2021-01-10 22:30:00  37578.38  38150.00  37578.38  38055.30   \n",
       " 478  BTCUSDT  2021-01-10 23:00:00  38052.58  39000.00  37852.09  38808.42   \n",
       " 479  BTCUSDT  2021-01-10 23:30:00  38818.20  38921.53  38400.00  38428.23   \n",
       " 480  BTCUSDT  2021-01-11 00:00:00  38429.85  38692.79  38126.90  38292.11   \n",
       " \n",
       "           Volume                   CloseTime  QuoteAssetVolume  \\\n",
       " 0     770.016345  2021-01-01 00:29:59.999000      2.235123e+07   \n",
       " 1    1206.402954  2021-01-01 00:59:59.999000      3.489181e+07   \n",
       " 2    1320.688748  2021-01-01 01:29:59.999000      3.808668e+07   \n",
       " 3     991.122697  2021-01-01 01:59:59.999000      2.868215e+07   \n",
       " 4    3449.118444  2021-01-01 02:29:59.999000      1.009326e+08   \n",
       " ..           ...                         ...               ...   \n",
       " 476  5456.591633  2021-01-10 22:29:59.999000      2.071280e+08   \n",
       " 477  2204.467940  2021-01-10 22:59:59.999000      8.362965e+07   \n",
       " 478  3254.713136  2021-01-10 23:29:59.999000      1.256340e+08   \n",
       " 479  1484.955385  2021-01-10 23:59:59.999000      5.736687e+07   \n",
       " 480  1895.532202  2021-01-11 00:29:59.999000      7.276730e+07   \n",
       " \n",
       "      NumberOfTrades  TakerBuyBaseAssetVolume  TakerBuyQuoteAssetVolume  \n",
       " 0             20814               379.553894              1.101621e+07  \n",
       " 1             25351               526.627158              1.522994e+07  \n",
       " 2             33194               629.672202              1.815817e+07  \n",
       " 3             25195               585.687036              1.694537e+07  \n",
       " 4             62279              2087.275176              6.108021e+07  \n",
       " ..              ...                      ...                       ...  \n",
       " 476          100002              2543.248968              9.656033e+07  \n",
       " 477           51401              1155.874571              4.385331e+07  \n",
       " 478           73908              1457.043148              5.619337e+07  \n",
       " 479           43313               714.968262              2.762415e+07  \n",
       " 480           42623               977.118100              3.751450e+07  \n",
       " \n",
       " [481 rows x 12 columns]]"
      ]
     },
     "execution_count": 18,
     "metadata": {},
     "output_type": "execute_result"
    }
   ],
   "source": [
    "# Get price data for a One Ticker\n",
    "db.get_price_data('BTCUSDT')\n"
   ]
  },
  {
   "cell_type": "code",
   "execution_count": 21,
   "metadata": {},
   "outputs": [
    {
     "name": "stdout",
     "output_type": "stream",
     "text": [
      "Price Data found for BTCUSDT\n",
      "\n",
      "Price Data found for ETHUSDT\n",
      "\n"
     ]
    },
    {
     "data": {
      "text/plain": [
       "[      Ticker            Timestamp      Open      High       Low     Close  \\\n",
       " 0    BTCUSDT  2021-01-01 00:00:00  29100.83  29110.35  28925.00  29002.88   \n",
       " 1    BTCUSDT  2021-01-01 00:30:00  29002.88  29003.16  28780.00  28923.63   \n",
       " 2    BTCUSDT  2021-01-01 01:00:00  28923.63  29017.50  28690.17  28836.63   \n",
       " 3    BTCUSDT  2021-01-01 01:30:00  28836.63  29031.34  28836.62  28995.13   \n",
       " 4    BTCUSDT  2021-01-01 02:00:00  28995.13  29417.87  28960.35  29385.39   \n",
       " ..       ...                  ...       ...       ...       ...       ...   \n",
       " 476  BTCUSDT  2021-01-10 22:00:00  37727.29  38288.17  37525.22  37578.39   \n",
       " 477  BTCUSDT  2021-01-10 22:30:00  37578.38  38150.00  37578.38  38055.30   \n",
       " 478  BTCUSDT  2021-01-10 23:00:00  38052.58  39000.00  37852.09  38808.42   \n",
       " 479  BTCUSDT  2021-01-10 23:30:00  38818.20  38921.53  38400.00  38428.23   \n",
       " 480  BTCUSDT  2021-01-11 00:00:00  38429.85  38692.79  38126.90  38292.11   \n",
       " \n",
       "           Volume                   CloseTime  QuoteAssetVolume  \\\n",
       " 0     770.016345  2021-01-01 00:29:59.999000      2.235123e+07   \n",
       " 1    1206.402954  2021-01-01 00:59:59.999000      3.489181e+07   \n",
       " 2    1320.688748  2021-01-01 01:29:59.999000      3.808668e+07   \n",
       " 3     991.122697  2021-01-01 01:59:59.999000      2.868215e+07   \n",
       " 4    3449.118444  2021-01-01 02:29:59.999000      1.009326e+08   \n",
       " ..           ...                         ...               ...   \n",
       " 476  5456.591633  2021-01-10 22:29:59.999000      2.071280e+08   \n",
       " 477  2204.467940  2021-01-10 22:59:59.999000      8.362965e+07   \n",
       " 478  3254.713136  2021-01-10 23:29:59.999000      1.256340e+08   \n",
       " 479  1484.955385  2021-01-10 23:59:59.999000      5.736687e+07   \n",
       " 480  1895.532202  2021-01-11 00:29:59.999000      7.276730e+07   \n",
       " \n",
       "      NumberOfTrades  TakerBuyBaseAssetVolume  TakerBuyQuoteAssetVolume  \n",
       " 0             20814               379.553894              1.101621e+07  \n",
       " 1             25351               526.627158              1.522994e+07  \n",
       " 2             33194               629.672202              1.815817e+07  \n",
       " 3             25195               585.687036              1.694537e+07  \n",
       " 4             62279              2087.275176              6.108021e+07  \n",
       " ..              ...                      ...                       ...  \n",
       " 476          100002              2543.248968              9.656033e+07  \n",
       " 477           51401              1155.874571              4.385331e+07  \n",
       " 478           73908              1457.043148              5.619337e+07  \n",
       " 479           43313               714.968262              2.762415e+07  \n",
       " 480           42623               977.118100              3.751450e+07  \n",
       " \n",
       " [481 rows x 12 columns],\n",
       "       Ticker            Timestamp     Open     High      Low    Close  \\\n",
       " 0    ETHUSDT  2021-01-01 00:00:00   740.46   741.70   735.83   739.82   \n",
       " 1    ETHUSDT  2021-01-01 00:30:00   739.89   739.90   731.83   736.42   \n",
       " 2    ETHUSDT  2021-01-01 01:00:00   736.42   739.00   729.33   731.60   \n",
       " 3    ETHUSDT  2021-01-01 01:30:00   731.55   735.59   731.45   734.07   \n",
       " 4    ETHUSDT  2021-01-01 02:00:00   734.08   743.78   733.37   742.20   \n",
       " ..       ...                  ...      ...      ...      ...      ...   \n",
       " 476  ETHUSDT  2021-01-10 22:00:00  1258.33  1274.89  1253.60  1255.22   \n",
       " 477  ETHUSDT  2021-01-10 22:30:00  1255.22  1273.28  1255.00  1270.60   \n",
       " 478  ETHUSDT  2021-01-10 23:00:00  1270.59  1286.00  1261.52  1285.09   \n",
       " 479  ETHUSDT  2021-01-10 23:30:00  1285.02  1287.51  1269.84  1273.08   \n",
       " 480  ETHUSDT  2021-01-11 00:00:00  1273.08  1277.38  1260.35  1269.23   \n",
       " \n",
       "           Volume                   CloseTime  QuoteAssetVolume  \\\n",
       " 0     8259.50433  2021-01-01 00:29:59.999000      6.109075e+06   \n",
       " 1    11190.57782  2021-01-01 00:59:59.999000      8.239295e+06   \n",
       " 2    17634.36317  2021-01-01 01:29:59.999000      1.292461e+07   \n",
       " 3    10298.33567  2021-01-01 01:59:59.999000      7.555295e+06   \n",
       " 4    24678.54339  2021-01-01 02:29:59.999000      1.824812e+07   \n",
       " ..           ...                         ...               ...   \n",
       " 476  64341.16981  2021-01-10 22:29:59.999000      8.127985e+07   \n",
       " 477  32567.52564  2021-01-10 22:59:59.999000      4.125551e+07   \n",
       " 478  24153.43101  2021-01-10 23:29:59.999000      3.082386e+07   \n",
       " 479  22951.54054  2021-01-10 23:59:59.999000      2.935380e+07   \n",
       " 480  27945.11649  2021-01-11 00:29:59.999000      3.544969e+07   \n",
       " \n",
       "      NumberOfTrades  TakerBuyBaseAssetVolume  TakerBuyQuoteAssetVolume  \n",
       " 0              8118               4470.11167              3.306068e+06  \n",
       " 1              9651               5414.75345              3.987197e+06  \n",
       " 2             13588               9486.92687              6.955614e+06  \n",
       " 3              9083               5533.68976              4.060305e+06  \n",
       " 4             20611              12745.12311              9.423603e+06  \n",
       " ..              ...                      ...                       ...  \n",
       " 476           46872              33337.20878              4.213077e+07  \n",
       " 477           27137              17867.36238              2.263115e+07  \n",
       " 478           24751              13041.04903              1.664129e+07  \n",
       " 479           18958               9311.30833              1.191322e+07  \n",
       " 480           20889              14579.56798              1.849183e+07  \n",
       " \n",
       " [481 rows x 12 columns]]"
      ]
     },
     "execution_count": 21,
     "metadata": {},
     "output_type": "execute_result"
    }
   ],
   "source": [
    "# get price data for multiple tickers\n",
    "db.get_price_data(['BTCUSDT', 'ETHUSDT'])"
   ]
  },
  {
   "cell_type": "code",
   "execution_count": 5,
   "metadata": {},
   "outputs": [],
   "source": [
    "# Start the sqlite GUI\n",
    "db.start_sqlite_GUI()"
   ]
  }
 ],
 "metadata": {
  "kernelspec": {
   "display_name": ".venv",
   "language": "python",
   "name": "python3"
  },
  "language_info": {
   "codemirror_mode": {
    "name": "ipython",
    "version": 3
   },
   "file_extension": ".py",
   "mimetype": "text/x-python",
   "name": "python",
   "nbconvert_exporter": "python",
   "pygments_lexer": "ipython3",
   "version": "3.10.6"
  },
  "orig_nbformat": 4
 },
 "nbformat": 4,
 "nbformat_minor": 2
}
